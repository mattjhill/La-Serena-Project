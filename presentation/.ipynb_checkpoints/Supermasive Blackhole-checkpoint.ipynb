{
 "cells": [
  {
   "cell_type": "markdown",
   "metadata": {},
   "source": [
    "# Looking for supermassive black hole binaries in CRTS data\n",
    "#### Francisca Carrasco, Matthew Hill, Shiyuan He"
   ]
  },
  {
   "cell_type": "markdown",
   "metadata": {},
   "source": [
    "## 1. Introduction"
   ]
  },
  {
   "cell_type": "markdown",
   "metadata": {},
   "source": [
    "This project aims at searching strong periodical signal within  247,000 known, spectroscopically confirmed quasars. These are possibly supermassive black hole binaries. \n",
    "\n",
    "\n",
    "We set up a project in github, and split the project into three parts.\n",
    "1. Clean observation by robust statistical method.\n",
    "2. Estimate the period by Lomb-Scarge method and AOV. The results of two methods are convolved together.\n",
    "3. Simulation. Generate fake light curve and assess our procedure.\n",
    "\n",
    "\n"
   ]
  },
  {
   "cell_type": "markdown",
   "metadata": {},
   "source": [
    "## 2. Light Curve Cleaning"
   ]
  },
  {
   "cell_type": "markdown",
   "metadata": {},
   "source": [
    "Get the outlier removed, but still retain the signal.\n",
    "<img src=\"./figurePart2/clean300.png\" style=\"width: 500px;\">"
   ]
  },
  {
   "cell_type": "markdown",
   "metadata": {},
   "source": [
    "1. Fit LOWESS local regression to light curve. This iterated procedure is robust to outlier.\n",
    "2. Compute the residuals.\n",
    "3. For <strong>ALL</strong> light curves, compute the proportion of removed points, for which its absolute residual is larger than a threshold.\n",
    "4. Finally, we choose the threshold value <strong>0.54</strong>, such that <strong>9%</strong> of points are removed.\n",
    "<img src=\"./figurePart2/threshCut.png\" style=\"width: 500px;\">\n",
    "<br/>\n",
    "<br/>\n",
    "More Cuts Plot\n",
    "<img src=\"./figurePart2/clean301.png\" style=\"width: 500px;\">\n",
    "<img src=\"./figurePart2/clean302.png\" style=\"width: 500px;\">\n",
    "<img src=\"./figurePart2/clean600.png\" style=\"width: 500px;\">\n",
    "<img src=\"./figurePart2/clean601.png\" style=\"width: 500px;\">"
   ]
  },
  {
   "cell_type": "markdown",
   "metadata": {},
   "source": [
    "We have multiple observations for each MJD. After removing outliers, the observed magnitude is averaged for each unique MJD.\n",
    "<img src=\"./figurePart2/clean300.png\" style=\"width: 400px;\"> <img src=\"./figurePart2/Ave300.png\" style=\"width: 400px;\">\n",
    "The number of points of each light curve will be significantly reduced. This would facilitate period computation. \n",
    "<img src=\"./figurePart2/ObsCount.png\" style=\"width: 500px;\">\n",
    "<img src=\"./figurePart2/uniqueCount.png\" style=\"width: 500px;\">"
   ]
  },
  {
   "cell_type": "markdown",
   "metadata": {},
   "source": [
    "## 3. Period Estimation"
   ]
  },
  {
   "cell_type": "markdown",
   "metadata": {},
   "source": [
    "## 4. Simulation"
   ]
  },
  {
   "cell_type": "markdown",
   "metadata": {
    "collapsed": true
   },
   "source": [
    "## 5. More to be done?\n"
   ]
  },
  {
   "cell_type": "code",
   "execution_count": null,
   "metadata": {
    "collapsed": true
   },
   "outputs": [],
   "source": []
  }
 ],
 "metadata": {
  "kernelspec": {
   "display_name": "Python 2",
   "language": "python",
   "name": "python2"
  },
  "language_info": {
   "codemirror_mode": {
    "name": "ipython",
    "version": 2
   },
   "file_extension": ".py",
   "mimetype": "text/x-python",
   "name": "python",
   "nbconvert_exporter": "python",
   "pygments_lexer": "ipython2",
   "version": "2.7.10"
  }
 },
 "nbformat": 4,
 "nbformat_minor": 0
}
